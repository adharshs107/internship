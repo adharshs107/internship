{
  "nbformat": 4,
  "nbformat_minor": 0,
  "metadata": {
    "colab": {
      "provenance": [],
      "authorship_tag": "ABX9TyMDRFtwck1/kqGqHbfzrhMt",
      "include_colab_link": true
    },
    "kernelspec": {
      "name": "python3",
      "display_name": "Python 3"
    },
    "language_info": {
      "name": "python"
    }
  },
  "cells": [
    {
      "cell_type": "markdown",
      "metadata": {
        "id": "view-in-github",
        "colab_type": "text"
      },
      "source": [
        "<a href=\"https://colab.research.google.com/github/adharshs107/internship/blob/main/day1.ipynb\" target=\"_parent\"><img src=\"https://colab.research.google.com/assets/colab-badge.svg\" alt=\"Open In Colab\"/></a>"
      ]
    },
    {
      "cell_type": "code",
      "execution_count": null,
      "metadata": {
        "colab": {
          "base_uri": "https://localhost:8080/"
        },
        "id": "GRpdyg9SwtoA",
        "outputId": "c326340b-ed9d-4c81-f870-812ec18294fb"
      },
      "outputs": [
        {
          "output_type": "stream",
          "name": "stdout",
          "text": [
            "1-addition 2_subtraction 3-multiplication 4_division\n",
            "enter the first number2\n",
            "enter the second number5\n",
            "enter the choice3\n",
            "10\n"
          ]
        }
      ],
      "source": [
        "print(\"1-addition 2_subtraction 3-multiplication 4_division\")\n",
        "a=int(input(\"enter the first number\"))\n",
        "b=int(input(\"enter the second number\"))\n",
        "ch=input(\"enter the choice\")\n",
        "\n",
        "if ch=='1':\n",
        " \n",
        " c=a+b\n",
        "elif ch=='2':\n",
        " \n",
        " c=a-b\n",
        "elif ch=='3':\n",
        " \n",
        " c=a*b\n",
        "elif ch=='4':\n",
        "\n",
        " c=a/b\n",
        "print(c)\n",
        "\n"
      ]
    },
    {
      "cell_type": "code",
      "source": [
        "num=int(input(\"enter the number:\"))\n",
        "c=0\n",
        "i=1\n",
        "while(i<=num):\n",
        " if num%i==0:\n",
        "    c=c+1\n",
        " i=i+1\n",
        "if c==2:\n",
        "  print(\"number is prime\")\n",
        "else:\n",
        "  print(\"number is not prime\")  \n"
      ],
      "metadata": {
        "colab": {
          "base_uri": "https://localhost:8080/"
        },
        "id": "LRpflGYQ1flO",
        "outputId": "42e6b8c3-2976-4d0c-9b5f-7e41dbb76c9c"
      },
      "execution_count": null,
      "outputs": [
        {
          "output_type": "stream",
          "name": "stdout",
          "text": [
            "enter the number:12\n",
            "number is not prime\n"
          ]
        }
      ]
    },
    {
      "cell_type": "code",
      "source": [
        "year=int(input(\"enter the number:\"))\n",
        "if year%4==0:\n",
        "  if year%100!=0:\n",
        "    print(\"leap year\")\n",
        "  elif year%400==0:\n",
        "    print(\"leap year\")\n",
        "  else:\n",
        "    print(\"not leap year\")\n"
      ],
      "metadata": {
        "colab": {
          "base_uri": "https://localhost:8080/"
        },
        "id": "EGf2JC7I5jLC",
        "outputId": "c9b63ab0-851f-472d-f077-014b83829baf"
      },
      "execution_count": null,
      "outputs": [
        {
          "name": "stdout",
          "output_type": "stream",
          "text": [
            "enter the number:2006\n"
          ]
        }
      ]
    },
    {
      "cell_type": "code",
      "source": [
        "n=int(input(\"enter the number\"))\n",
        "s=0\n",
        "for i in range(n+1):\n",
        "  s=s+i\n",
        "print(s)"
      ],
      "metadata": {
        "colab": {
          "base_uri": "https://localhost:8080/"
        },
        "id": "R35jBce5CSsj",
        "outputId": "4fb187e2-8094-4508-cbea-1f3353e48523"
      },
      "execution_count": null,
      "outputs": [
        {
          "output_type": "stream",
          "name": "stdout",
          "text": [
            "enter the number4\n",
            "10\n"
          ]
        }
      ]
    },
    {
      "cell_type": "code",
      "source": [
        "def greet():\n",
        " print(\"hello\")\n",
        "greet()\n",
        "\n"
      ],
      "metadata": {
        "colab": {
          "base_uri": "https://localhost:8080/"
        },
        "id": "9bqrnEtI-k7z",
        "outputId": "e88f01d9-36ad-4ec0-cd03-3abbd90ce9e6"
      },
      "execution_count": null,
      "outputs": [
        {
          "output_type": "stream",
          "name": "stdout",
          "text": [
            "hello\n"
          ]
        }
      ]
    },
    {
      "cell_type": "code",
      "source": [
        "#function with arg\n",
        "def addnumber(num1,num2):\n",
        "  sum=num1+num2\n",
        "  print(sum)\n",
        "addnumber(2,6)"
      ],
      "metadata": {
        "colab": {
          "base_uri": "https://localhost:8080/"
        },
        "id": "LQZF4w51F9aW",
        "outputId": "4eff423d-e12b-4bea-b421-0a8c6d7cfb26"
      },
      "execution_count": null,
      "outputs": [
        {
          "output_type": "stream",
          "name": "stdout",
          "text": [
            "8\n"
          ]
        }
      ]
    },
    {
      "cell_type": "code",
      "execution_count": null,
      "metadata": {
        "colab": {
          "base_uri": "https://localhost:8080/"
        },
        "id": "3uyclJ-yy8Ng",
        "outputId": "ab919b33-4684-4361-cfde-b021f09ce237"
      },
      "outputs": [
        {
          "output_type": "stream",
          "name": "stdout",
          "text": [
            "25\n"
          ]
        }
      ],
      "source": [
        "def sqnumber(num):\n",
        "  sq=num*num\n",
        "  print(sq)\n",
        "sqnumber(5)"
      ]
    }
  ]
}